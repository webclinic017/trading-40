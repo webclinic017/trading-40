{
 "cells": [
  {
   "cell_type": "code",
   "execution_count": 1,
   "id": "c7fa6647-da19-4a20-8826-9a6e33654ba1",
   "metadata": {},
   "outputs": [],
   "source": [
    "import matplotlib.pyplot as plt\n",
    "import numpy as np\n",
    "import pandas as pd\n",
    "import seaborn as sns\n",
    "import yfinance as yf\n",
    "from datetime import date, datetime, timedelta\n",
    "\n",
    "\n",
    "sns.set_style(\"darkgrid\")"
   ]
  },
  {
   "cell_type": "code",
   "execution_count": 2,
   "id": "6d44a615-4ff0-41a4-ae2d-0b598a8ca003",
   "metadata": {},
   "outputs": [
    {
     "name": "stdout",
     "output_type": "stream",
     "text": [
      "[*********************100%***********************]  1 of 1 completed\n"
     ]
    },
    {
     "data": {
      "text/plain": [
       "(1542, 4)"
      ]
     },
     "execution_count": 2,
     "metadata": {},
     "output_type": "execute_result"
    }
   ],
   "source": [
    "ticker = \"CL=F\"\n",
    "interval = \"1d\"\n",
    "start_date = datetime.strptime(\"2017-01-01\", \"%Y-%m-%d\")\n",
    "end_date = datetime.strptime(\"2023-02-14\", \"%Y-%m-%d\")\n",
    "# end_date = date.today()\n",
    "\n",
    "# WTI Crude.\n",
    "raw_df = yf.download(ticker, start=start_date.strftime(\"%Y-%m-%d\"), end=end_date.strftime(\"%Y-%m-%d\"), interval=interval)\n",
    "\n",
    "\n",
    "df = pd.DataFrame()\n",
    "df[\"price\"] = raw_df[[\"Adj Close\"]]\n",
    "df[\"day_of_week\"] = df.index.day_of_week\n",
    "df[\"day_of_month\"] = df.index.day\n",
    "\n",
    "df[\"roll_date\"] = False\n",
    "\n",
    "df.shape"
   ]
  },
  {
   "cell_type": "code",
   "execution_count": 3,
   "id": "23346ed6-2ec7-44bb-b762-8555914564c8",
   "metadata": {},
   "outputs": [
    {
     "data": {
      "text/plain": [
       "array([ 3,  4,  5, ...,  9, 10, 13])"
      ]
     },
     "execution_count": 3,
     "metadata": {},
     "output_type": "execute_result"
    }
   ],
   "source": [
    "df.index.day.values"
   ]
  },
  {
   "cell_type": "code",
   "execution_count": 4,
   "id": "ff0ba93d-c23a-40cb-a5c3-4cfb55052155",
   "metadata": {},
   "outputs": [],
   "source": [
    "def roll_date_wti_oil(month_df):\n",
    "\n",
    "    days = month_df[\"day_of_month\"].values\n",
    "\n",
    "    # Last trade is 4 business days before 25th if 25th is a Bday, else 5 business days before.\n",
    "    expiry = 25\n",
    "    last_trade = 21 if expiry in days else 20\n",
    "\n",
    "    # Account for `last_trade` being on a weekend too.\n",
    "    index = []\n",
    "    while len(index) == 0:\n",
    "        # index = month_df.index[month_df[\"day_of_month\"] == last_trade]\n",
    "        index = month_df.index[month_df.index.day == last_trade]\n",
    "        last_trade -= 1\n",
    "        \n",
    "        assert last_trade > 0\n",
    "    \n",
    "    month_df.loc[index.strftime(\"%Y-%m-%d\"), \"roll_date\"] = True\n",
    "        \n",
    "    return month_df"
   ]
  },
  {
   "cell_type": "code",
   "execution_count": 5,
   "id": "5da4adde-3d9a-4472-a94e-504063bd558c",
   "metadata": {},
   "outputs": [
    {
     "name": "stderr",
     "output_type": "stream",
     "text": [
      "/var/folders/2v/xw5v0n3d5rlf442fyyzb04dc0000gn/T/ipykernel_1572/835471125.py:2: FutureWarning: Not prepending group keys to the result index of transform-like apply. In the future, the group keys will be included in the index, regardless of whether the applied function returns a like-indexed object.\n",
      "To preserve the previous behavior, use\n",
      "\n",
      "\t>>> .groupby(..., group_keys=False)\n",
      "\n",
      "To adopt the future behavior and silence this warning, use \n",
      "\n",
      "\t>>> .groupby(..., group_keys=True)\n",
      "  dfg = dfg.apply(roll_date_wti_oil)\n"
     ]
    },
    {
     "data": {
      "text/plain": [
       "roll_date    6.166667\n",
       "dtype: float64"
      ]
     },
     "execution_count": 5,
     "metadata": {},
     "output_type": "execute_result"
    }
   ],
   "source": [
    "dfg = df.groupby(by=[df.index.month, df.index.year])\n",
    "dfg = dfg.apply(roll_date_wti_oil)\n",
    "\n",
    "dfg[[\"roll_date\"]].astype(int).sum() / 12"
   ]
  },
  {
   "cell_type": "code",
   "execution_count": 6,
   "id": "2ed221cd-678c-4a4f-8772-ccd577b7d4b1",
   "metadata": {},
   "outputs": [
    {
     "data": {
      "text/plain": [
       "<AxesSubplot: >"
      ]
     },
     "execution_count": 6,
     "metadata": {},
     "output_type": "execute_result"
    },
    {
     "data": {
      "image/png": "[encoded data removed]",
      "text/plain": [
       "<Figure size 640x480 with 1 Axes>"
      ]
     },
     "metadata": {},
     "output_type": "display_data"
    }
   ],
   "source": [
    "# dfg[[\"roll_date\"]].astype(int).plot()\n",
    "dfg[dfg[\"roll_date\"]][\"day_of_month\"].hist()"
   ]
  },
  {
   "cell_type": "code",
   "execution_count": 7,
   "id": "25ad4ee0-0300-48a7-b7ae-da224e5c5088",
   "metadata": {},
   "outputs": [
    {
     "data": {
      "text/plain": [
       "Date\n",
       "2017-01-20    False\n",
       "2017-02-17    False\n",
       "2017-03-20    False\n",
       "2017-04-21    False\n",
       "2017-05-19    False\n",
       "              ...  \n",
       "2022-10-21    False\n",
       "2022-11-21    False\n",
       "2022-12-20    False\n",
       "2023-01-20    False\n",
       "2023-02-13     True\n",
       "Name: day_of_month, Length: 74, dtype: bool"
      ]
     },
     "execution_count": 7,
     "metadata": {},
     "output_type": "execute_result"
    }
   ],
   "source": [
    "dfg[dfg[\"roll_date\"]][\"day_of_month\"] == 13"
   ]
  },
  {
   "cell_type": "code",
   "execution_count": 8,
   "id": "64cbb461-94f3-4f9d-a2d4-32e3f5d2d4c0",
   "metadata": {},
   "outputs": [
    {
     "data": {
      "text/html": [
       "<div>\n",
       "<style scoped>\n",
       "    .dataframe tbody tr th:only-of-type {\n",
       "        vertical-align: middle;\n",
       "    }\n",
       "\n",
       "    .dataframe tbody tr th {\n",
       "        vertical-align: top;\n",
       "    }\n",
       "\n",
       "    .dataframe thead th {\n",
       "        text-align: right;\n",
       "    }\n",
       "</style>\n",
       "<table border=\"1\" class=\"dataframe\">\n",
       "  <thead>\n",
       "    <tr style=\"text-align: right;\">\n",
       "      <th></th>\n",
       "      <th>price</th>\n",
       "      <th>day_of_week</th>\n",
       "      <th>day_of_month</th>\n",
       "      <th>roll_date</th>\n",
       "    </tr>\n",
       "    <tr>\n",
       "      <th>Date</th>\n",
       "      <th></th>\n",
       "      <th></th>\n",
       "      <th></th>\n",
       "      <th></th>\n",
       "    </tr>\n",
       "  </thead>\n",
       "  <tbody>\n",
       "    <tr>\n",
       "      <th>2023-02-13</th>\n",
       "      <td>80.139999</td>\n",
       "      <td>0</td>\n",
       "      <td>13</td>\n",
       "      <td>True</td>\n",
       "    </tr>\n",
       "  </tbody>\n",
       "</table>\n",
       "</div>"
      ],
      "text/plain": [
       "                price  day_of_week  day_of_month  roll_date\n",
       "Date                                                       \n",
       "2023-02-13  80.139999            0            13       True"
      ]
     },
     "execution_count": 8,
     "metadata": {},
     "output_type": "execute_result"
    }
   ],
   "source": [
    "# It is the last day in the dataset...\n",
    "dfg.query(\"roll_date and day_of_month == 13\")"
   ]
  },
  {
   "cell_type": "code",
   "execution_count": null,
   "id": "28e5b1bb-4740-4e4e-9897-ce2daeac30fd",
   "metadata": {},
   "outputs": [],
   "source": []
  }
 ],
 "metadata": {
  "kernelspec": {
   "display_name": "ml",
   "language": "python",
   "name": "ml"
  },
  "language_info": {
   "codemirror_mode": {
    "name": "ipython",
    "version": 3
   },
   "file_extension": ".py",
   "mimetype": "text/x-python",
   "name": "python",
   "nbconvert_exporter": "python",
   "pygments_lexer": "ipython3",
   "version": "3.9.13"
  }
 },
 "nbformat": 4,
 "nbformat_minor": 5
}
