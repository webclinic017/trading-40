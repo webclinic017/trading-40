{
 "cells": [
  {
   "cell_type": "markdown",
   "id": "4ac186f5-0e37-4760-b9f0-f02191508862",
   "metadata": {},
   "source": [
    "# How does the EIA weekly announcement of oil storage levels impact the day-to-day WTI crude oil close price?\n",
    "\n",
    "- Using close as a proxy for intraday due to data availability."
   ]
  },
  {
   "cell_type": "code",
   "execution_count": 1,
   "id": "9559afb8-6ce9-4b51-99e1-4419d460e05c",
   "metadata": {},
   "outputs": [],
   "source": [
    "import matplotlib.pyplot as plt\n",
    "import numpy as np\n",
    "import pandas as pd\n",
    "import yfinance as yf\n",
    "\n",
    "import statsmodels.api as sm"
   ]
  },
  {
   "cell_type": "code",
   "execution_count": 2,
   "id": "6154087d-d9df-481f-971c-86aaed89352d",
   "metadata": {},
   "outputs": [
    {
     "data": {
      "text/html": [
       "<div>\n",
       "<style scoped>\n",
       "    .dataframe tbody tr th:only-of-type {\n",
       "        vertical-align: middle;\n",
       "    }\n",
       "\n",
       "    .dataframe tbody tr th {\n",
       "        vertical-align: top;\n",
       "    }\n",
       "\n",
       "    .dataframe thead th {\n",
       "        text-align: right;\n",
       "    }\n",
       "</style>\n",
       "<table border=\"1\" class=\"dataframe\">\n",
       "  <thead>\n",
       "    <tr style=\"text-align: right;\">\n",
       "      <th></th>\n",
       "      <th>oil_stock</th>\n",
       "    </tr>\n",
       "    <tr>\n",
       "      <th>date</th>\n",
       "      <th></th>\n",
       "    </tr>\n",
       "  </thead>\n",
       "  <tbody>\n",
       "    <tr>\n",
       "      <th>2022-12-30</th>\n",
       "      <td>420646</td>\n",
       "    </tr>\n",
       "    <tr>\n",
       "      <th>2023-01-06</th>\n",
       "      <td>439607</td>\n",
       "    </tr>\n",
       "    <tr>\n",
       "      <th>2023-01-13</th>\n",
       "      <td>448015</td>\n",
       "    </tr>\n",
       "    <tr>\n",
       "      <th>2023-01-20</th>\n",
       "      <td>448548</td>\n",
       "    </tr>\n",
       "    <tr>\n",
       "      <th>2023-01-27</th>\n",
       "      <td>452688</td>\n",
       "    </tr>\n",
       "  </tbody>\n",
       "</table>\n",
       "</div>"
      ],
      "text/plain": [
       "            oil_stock\n",
       "date                 \n",
       "2022-12-30     420646\n",
       "2023-01-06     439607\n",
       "2023-01-13     448015\n",
       "2023-01-20     448548\n",
       "2023-01-27     452688"
      ]
     },
     "execution_count": 2,
     "metadata": {},
     "output_type": "execute_result"
    }
   ],
   "source": [
    "# EIA Weekly Report of oil storage inventory\n",
    "storage_data_fp = \"data/weekly_us_crude_stocks.xls\"\n",
    "\n",
    "storage_df = pd.read_excel(storage_data_fp, sheet_name=\"Data 1\", skiprows=[0, 1])\n",
    "storage_df.rename(columns={\"Date\": \"date\", storage_df.columns[1]: \"oil_stock\"}, inplace=True, errors=\"raise\")\n",
    "\n",
    "storage_df.set_index(\"date\", inplace=True)\n",
    "storage_df.index = pd.to_datetime(storage_df.index)\n",
    "storage_df.tail()"
   ]
  },
  {
   "cell_type": "code",
   "execution_count": 3,
   "id": "e6aa6e80-0cec-49c2-b098-6b80be4dbca8",
   "metadata": {},
   "outputs": [
    {
     "name": "stdout",
     "output_type": "stream",
     "text": [
      "[*********************100%***********************]  1 of 1 completed\n"
     ]
    },
    {
     "name": "stderr",
     "output_type": "stream",
     "text": [
      "/var/folders/2v/xw5v0n3d5rlf442fyyzb04dc0000gn/T/ipykernel_3989/605244384.py:13: SettingWithCopyWarning: \n",
      "A value is trying to be set on a copy of a slice from a DataFrame\n",
      "\n",
      "See the caveats in the documentation: https://pandas.pydata.org/pandas-docs/stable/user_guide/indexing.html#returning-a-view-versus-a-copy\n",
      "  price_df.dropna(inplace=True)\n"
     ]
    },
    {
     "data": {
      "text/html": [
       "<div>\n",
       "<style scoped>\n",
       "    .dataframe tbody tr th:only-of-type {\n",
       "        vertical-align: middle;\n",
       "    }\n",
       "\n",
       "    .dataframe tbody tr th {\n",
       "        vertical-align: top;\n",
       "    }\n",
       "\n",
       "    .dataframe thead th {\n",
       "        text-align: right;\n",
       "    }\n",
       "</style>\n",
       "<table border=\"1\" class=\"dataframe\">\n",
       "  <thead>\n",
       "    <tr style=\"text-align: right;\">\n",
       "      <th></th>\n",
       "      <th>close</th>\n",
       "      <th>volume</th>\n",
       "    </tr>\n",
       "    <tr>\n",
       "      <th>Date</th>\n",
       "      <th></th>\n",
       "      <th></th>\n",
       "    </tr>\n",
       "  </thead>\n",
       "  <tbody>\n",
       "    <tr>\n",
       "      <th>2022-10-07</th>\n",
       "      <td>92.639999</td>\n",
       "      <td>429162</td>\n",
       "    </tr>\n",
       "    <tr>\n",
       "      <th>2022-10-10</th>\n",
       "      <td>91.129997</td>\n",
       "      <td>289508</td>\n",
       "    </tr>\n",
       "    <tr>\n",
       "      <th>2022-10-11</th>\n",
       "      <td>89.349998</td>\n",
       "      <td>333158</td>\n",
       "    </tr>\n",
       "    <tr>\n",
       "      <th>2022-10-12</th>\n",
       "      <td>87.269997</td>\n",
       "      <td>332271</td>\n",
       "    </tr>\n",
       "    <tr>\n",
       "      <th>2022-10-13</th>\n",
       "      <td>89.110001</td>\n",
       "      <td>298032</td>\n",
       "    </tr>\n",
       "  </tbody>\n",
       "</table>\n",
       "</div>"
      ],
      "text/plain": [
       "                close  volume\n",
       "Date                         \n",
       "2022-10-07  92.639999  429162\n",
       "2022-10-10  91.129997  289508\n",
       "2022-10-11  89.349998  333158\n",
       "2022-10-12  87.269997  332271\n",
       "2022-10-13  89.110001  298032"
      ]
     },
     "execution_count": 3,
     "metadata": {},
     "output_type": "execute_result"
    }
   ],
   "source": [
    "# WTI Crude Oil Price - rolling front month\n",
    "ticker = \"CL=F\"\n",
    "start_date = \"2017-01-01\"\n",
    "end_date = \"2022-10-14\"\n",
    "interval = \"1d\"\n",
    "\n",
    "price_df = yf.download(ticker, start=start_date, end=end_date, interval=interval)\n",
    "price_df.index = pd.to_datetime(price_df.index)\n",
    "\n",
    "price_df = price_df[[\"Close\", \"Volume\"]]\n",
    "price_df.columns= price_df.columns.str.lower()\n",
    "\n",
    "price_df.dropna(inplace=True)\n",
    "price_df.tail()"
   ]
  },
  {
   "cell_type": "markdown",
   "id": "479e74ed-2e4a-4289-b3ec-50647dab93e1",
   "metadata": {},
   "source": [
    "# Daily View"
   ]
  },
  {
   "cell_type": "code",
   "execution_count": 4,
   "id": "0a6b3fe6-faf8-45d3-a62e-07c0c9ba2b78",
   "metadata": {},
   "outputs": [
    {
     "data": {
      "text/html": [
       "<div>\n",
       "<style scoped>\n",
       "    .dataframe tbody tr th:only-of-type {\n",
       "        vertical-align: middle;\n",
       "    }\n",
       "\n",
       "    .dataframe tbody tr th {\n",
       "        vertical-align: top;\n",
       "    }\n",
       "\n",
       "    .dataframe thead th {\n",
       "        text-align: right;\n",
       "    }\n",
       "</style>\n",
       "<table border=\"1\" class=\"dataframe\">\n",
       "  <thead>\n",
       "    <tr style=\"text-align: right;\">\n",
       "      <th></th>\n",
       "      <th>close</th>\n",
       "      <th>volume</th>\n",
       "      <th>oil_stock</th>\n",
       "    </tr>\n",
       "    <tr>\n",
       "      <th>Date</th>\n",
       "      <th></th>\n",
       "      <th></th>\n",
       "      <th></th>\n",
       "    </tr>\n",
       "  </thead>\n",
       "  <tbody>\n",
       "    <tr>\n",
       "      <th>2022-10-07</th>\n",
       "      <td>92.639999</td>\n",
       "      <td>429162</td>\n",
       "      <td>439082.0</td>\n",
       "    </tr>\n",
       "    <tr>\n",
       "      <th>2022-10-10</th>\n",
       "      <td>91.129997</td>\n",
       "      <td>289508</td>\n",
       "      <td>439082.0</td>\n",
       "    </tr>\n",
       "    <tr>\n",
       "      <th>2022-10-11</th>\n",
       "      <td>89.349998</td>\n",
       "      <td>333158</td>\n",
       "      <td>439082.0</td>\n",
       "    </tr>\n",
       "    <tr>\n",
       "      <th>2022-10-12</th>\n",
       "      <td>87.269997</td>\n",
       "      <td>332271</td>\n",
       "      <td>439082.0</td>\n",
       "    </tr>\n",
       "    <tr>\n",
       "      <th>2022-10-13</th>\n",
       "      <td>89.110001</td>\n",
       "      <td>298032</td>\n",
       "      <td>439082.0</td>\n",
       "    </tr>\n",
       "  </tbody>\n",
       "</table>\n",
       "</div>"
      ],
      "text/plain": [
       "                close  volume  oil_stock\n",
       "Date                                    \n",
       "2022-10-07  92.639999  429162   439082.0\n",
       "2022-10-10  91.129997  289508   439082.0\n",
       "2022-10-11  89.349998  333158   439082.0\n",
       "2022-10-12  87.269997  332271   439082.0\n",
       "2022-10-13  89.110001  298032   439082.0"
      ]
     },
     "execution_count": 4,
     "metadata": {},
     "output_type": "execute_result"
    }
   ],
   "source": [
    "df_daily = price_df.join(storage_df)\n",
    "\n",
    "# Forward fill NaNs: fill NaN values with the last non-NaN to propagate the weekly oil storage level to each day,\n",
    "df_daily.fillna(method=\"ffill\", inplace=True)\n",
    "\n",
    "# Drop the leading NaNs that cannot be forward-filled\n",
    "df_daily.dropna(inplace=True)\n",
    "\n",
    "df_daily.tail()"
   ]
  },
  {
   "cell_type": "code",
   "execution_count": 5,
   "id": "6d972605-8350-4b83-9d91-d757be9830ba",
   "metadata": {},
   "outputs": [
    {
     "data": {
      "text/html": [
       "<div>\n",
       "<style scoped>\n",
       "    .dataframe tbody tr th:only-of-type {\n",
       "        vertical-align: middle;\n",
       "    }\n",
       "\n",
       "    .dataframe tbody tr th {\n",
       "        vertical-align: top;\n",
       "    }\n",
       "\n",
       "    .dataframe thead th {\n",
       "        text-align: right;\n",
       "    }\n",
       "</style>\n",
       "<table border=\"1\" class=\"dataframe\">\n",
       "  <thead>\n",
       "    <tr style=\"text-align: right;\">\n",
       "      <th></th>\n",
       "      <th>close</th>\n",
       "      <th>volume</th>\n",
       "      <th>oil_stock</th>\n",
       "      <th>d_close</th>\n",
       "      <th>d_oil_stock</th>\n",
       "    </tr>\n",
       "    <tr>\n",
       "      <th>Date</th>\n",
       "      <th></th>\n",
       "      <th></th>\n",
       "      <th></th>\n",
       "      <th></th>\n",
       "      <th></th>\n",
       "    </tr>\n",
       "  </thead>\n",
       "  <tbody>\n",
       "    <tr>\n",
       "      <th>2022-10-07</th>\n",
       "      <td>92.639999</td>\n",
       "      <td>429162</td>\n",
       "      <td>439082.0</td>\n",
       "      <td>0.047371</td>\n",
       "      <td>0.023017</td>\n",
       "    </tr>\n",
       "    <tr>\n",
       "      <th>2022-10-10</th>\n",
       "      <td>91.129997</td>\n",
       "      <td>289508</td>\n",
       "      <td>439082.0</td>\n",
       "      <td>-0.016300</td>\n",
       "      <td>0.000000</td>\n",
       "    </tr>\n",
       "    <tr>\n",
       "      <th>2022-10-11</th>\n",
       "      <td>89.349998</td>\n",
       "      <td>333158</td>\n",
       "      <td>439082.0</td>\n",
       "      <td>-0.019533</td>\n",
       "      <td>0.000000</td>\n",
       "    </tr>\n",
       "    <tr>\n",
       "      <th>2022-10-12</th>\n",
       "      <td>87.269997</td>\n",
       "      <td>332271</td>\n",
       "      <td>439082.0</td>\n",
       "      <td>-0.023279</td>\n",
       "      <td>0.000000</td>\n",
       "    </tr>\n",
       "    <tr>\n",
       "      <th>2022-10-13</th>\n",
       "      <td>89.110001</td>\n",
       "      <td>298032</td>\n",
       "      <td>439082.0</td>\n",
       "      <td>0.021084</td>\n",
       "      <td>0.000000</td>\n",
       "    </tr>\n",
       "  </tbody>\n",
       "</table>\n",
       "</div>"
      ],
      "text/plain": [
       "                close  volume  oil_stock   d_close  d_oil_stock\n",
       "Date                                                           \n",
       "2022-10-07  92.639999  429162   439082.0  0.047371     0.023017\n",
       "2022-10-10  91.129997  289508   439082.0 -0.016300     0.000000\n",
       "2022-10-11  89.349998  333158   439082.0 -0.019533     0.000000\n",
       "2022-10-12  87.269997  332271   439082.0 -0.023279     0.000000\n",
       "2022-10-13  89.110001  298032   439082.0  0.021084     0.000000"
      ]
     },
     "execution_count": 5,
     "metadata": {},
     "output_type": "execute_result"
    }
   ],
   "source": [
    "df_daily[\"d_close\"] = df_daily[\"close\"].pct_change()\n",
    "df_daily[\"d_oil_stock\"] = df_daily[\"oil_stock\"].pct_change()\n",
    "df_daily.dropna(inplace=True)\n",
    "df_daily.tail()"
   ]
  },
  {
   "cell_type": "code",
   "execution_count": 15,
   "id": "f4088294-440d-4bfa-9336-46ff49cbae0d",
   "metadata": {},
   "outputs": [
    {
     "data": {
      "image/png": "[encoded data removed]",
      "text/plain": [
       "<Figure size 640x480 with 1 Axes>"
      ]
     },
     "metadata": {},
     "output_type": "display_data"
    }
   ],
   "source": [
    "plt.scatter(df_daily[\"oil_stock\"], df_daily[\"close\"])\n",
    "plt.grid()\n",
    "plt.show()"
   ]
  },
  {
   "cell_type": "code",
   "execution_count": 6,
   "id": "b727ec73-e166-4d36-8a3a-6093b73d91ad",
   "metadata": {},
   "outputs": [
    {
     "data": {
      "image/png": "[encoded data removed]",
      "text/plain": [
       "<Figure size 640x480 with 1 Axes>"
      ]
     },
     "metadata": {},
     "output_type": "display_data"
    }
   ],
   "source": [
    "plt.scatter(df_daily[\"d_oil_stock\"], df_daily[\"d_close\"])\n",
    "plt.grid()\n",
    "plt.show()"
   ]
  },
  {
   "cell_type": "markdown",
   "id": "54a12443-6c9b-4d62-abdf-0245c474ec59",
   "metadata": {},
   "source": [
    "# Weekly View"
   ]
  },
  {
   "cell_type": "code",
   "execution_count": 7,
   "id": "d58c08c3-e810-4391-b435-ba8649cd295e",
   "metadata": {},
   "outputs": [
    {
     "data": {
      "text/html": [
       "<div>\n",
       "<style scoped>\n",
       "    .dataframe tbody tr th:only-of-type {\n",
       "        vertical-align: middle;\n",
       "    }\n",
       "\n",
       "    .dataframe tbody tr th {\n",
       "        vertical-align: top;\n",
       "    }\n",
       "\n",
       "    .dataframe thead th {\n",
       "        text-align: right;\n",
       "    }\n",
       "</style>\n",
       "<table border=\"1\" class=\"dataframe\">\n",
       "  <thead>\n",
       "    <tr style=\"text-align: right;\">\n",
       "      <th></th>\n",
       "      <th>close</th>\n",
       "      <th>volume</th>\n",
       "      <th>oil_stock</th>\n",
       "    </tr>\n",
       "    <tr>\n",
       "      <th>Date</th>\n",
       "      <th></th>\n",
       "      <th></th>\n",
       "      <th></th>\n",
       "    </tr>\n",
       "  </thead>\n",
       "  <tbody>\n",
       "    <tr>\n",
       "      <th>2022-09-09</th>\n",
       "      <td>86.790001</td>\n",
       "      <td>305188</td>\n",
       "      <td>429633.0</td>\n",
       "    </tr>\n",
       "    <tr>\n",
       "      <th>2022-09-16</th>\n",
       "      <td>85.110001</td>\n",
       "      <td>87829</td>\n",
       "      <td>430774.0</td>\n",
       "    </tr>\n",
       "    <tr>\n",
       "      <th>2022-09-23</th>\n",
       "      <td>78.739998</td>\n",
       "      <td>334271</td>\n",
       "      <td>430559.0</td>\n",
       "    </tr>\n",
       "    <tr>\n",
       "      <th>2022-09-30</th>\n",
       "      <td>79.489998</td>\n",
       "      <td>253154</td>\n",
       "      <td>429203.0</td>\n",
       "    </tr>\n",
       "    <tr>\n",
       "      <th>2022-10-07</th>\n",
       "      <td>92.639999</td>\n",
       "      <td>429162</td>\n",
       "      <td>439082.0</td>\n",
       "    </tr>\n",
       "  </tbody>\n",
       "</table>\n",
       "</div>"
      ],
      "text/plain": [
       "                close  volume  oil_stock\n",
       "Date                                    \n",
       "2022-09-09  86.790001  305188   429633.0\n",
       "2022-09-16  85.110001   87829   430774.0\n",
       "2022-09-23  78.739998  334271   430559.0\n",
       "2022-09-30  79.489998  253154   429203.0\n",
       "2022-10-07  92.639999  429162   439082.0"
      ]
     },
     "execution_count": 7,
     "metadata": {},
     "output_type": "execute_result"
    }
   ],
   "source": [
    "df_weekly = price_df.join(storage_df)\n",
    "\n",
    "# Drop non-report days\n",
    "df_weekly.dropna(inplace=True)\n",
    "\n",
    "df_weekly.tail()"
   ]
  },
  {
   "cell_type": "code",
   "execution_count": 8,
   "id": "9fffd975-5481-45bf-9ade-635406ad8cac",
   "metadata": {},
   "outputs": [
    {
     "data": {
      "text/html": [
       "<div>\n",
       "<style scoped>\n",
       "    .dataframe tbody tr th:only-of-type {\n",
       "        vertical-align: middle;\n",
       "    }\n",
       "\n",
       "    .dataframe tbody tr th {\n",
       "        vertical-align: top;\n",
       "    }\n",
       "\n",
       "    .dataframe thead th {\n",
       "        text-align: right;\n",
       "    }\n",
       "</style>\n",
       "<table border=\"1\" class=\"dataframe\">\n",
       "  <thead>\n",
       "    <tr style=\"text-align: right;\">\n",
       "      <th></th>\n",
       "      <th>close</th>\n",
       "      <th>volume</th>\n",
       "      <th>oil_stock</th>\n",
       "      <th>return</th>\n",
       "      <th>log_return</th>\n",
       "      <th>d_volume</th>\n",
       "      <th>d_oil_stock</th>\n",
       "    </tr>\n",
       "    <tr>\n",
       "      <th>Date</th>\n",
       "      <th></th>\n",
       "      <th></th>\n",
       "      <th></th>\n",
       "      <th></th>\n",
       "      <th></th>\n",
       "      <th></th>\n",
       "      <th></th>\n",
       "    </tr>\n",
       "  </thead>\n",
       "  <tbody>\n",
       "    <tr>\n",
       "      <th>2022-09-09</th>\n",
       "      <td>86.790001</td>\n",
       "      <td>305188</td>\n",
       "      <td>429633.0</td>\n",
       "      <td>-0.000921</td>\n",
       "      <td>-0.000921</td>\n",
       "      <td>0.099646</td>\n",
       "      <td>0.005716</td>\n",
       "    </tr>\n",
       "    <tr>\n",
       "      <th>2022-09-16</th>\n",
       "      <td>85.110001</td>\n",
       "      <td>87829</td>\n",
       "      <td>430774.0</td>\n",
       "      <td>-0.019357</td>\n",
       "      <td>-0.019547</td>\n",
       "      <td>-0.712213</td>\n",
       "      <td>0.002656</td>\n",
       "    </tr>\n",
       "    <tr>\n",
       "      <th>2022-09-23</th>\n",
       "      <td>78.739998</td>\n",
       "      <td>334271</td>\n",
       "      <td>430559.0</td>\n",
       "      <td>-0.074844</td>\n",
       "      <td>-0.077793</td>\n",
       "      <td>2.805930</td>\n",
       "      <td>-0.000499</td>\n",
       "    </tr>\n",
       "    <tr>\n",
       "      <th>2022-09-30</th>\n",
       "      <td>79.489998</td>\n",
       "      <td>253154</td>\n",
       "      <td>429203.0</td>\n",
       "      <td>0.009525</td>\n",
       "      <td>0.009480</td>\n",
       "      <td>-0.242668</td>\n",
       "      <td>-0.003149</td>\n",
       "    </tr>\n",
       "    <tr>\n",
       "      <th>2022-10-07</th>\n",
       "      <td>92.639999</td>\n",
       "      <td>429162</td>\n",
       "      <td>439082.0</td>\n",
       "      <td>0.165430</td>\n",
       "      <td>0.153090</td>\n",
       "      <td>0.695261</td>\n",
       "      <td>0.023017</td>\n",
       "    </tr>\n",
       "  </tbody>\n",
       "</table>\n",
       "</div>"
      ],
      "text/plain": [
       "                close  volume  oil_stock    return  log_return  d_volume  \\\n",
       "Date                                                                       \n",
       "2022-09-09  86.790001  305188   429633.0 -0.000921   -0.000921  0.099646   \n",
       "2022-09-16  85.110001   87829   430774.0 -0.019357   -0.019547 -0.712213   \n",
       "2022-09-23  78.739998  334271   430559.0 -0.074844   -0.077793  2.805930   \n",
       "2022-09-30  79.489998  253154   429203.0  0.009525    0.009480 -0.242668   \n",
       "2022-10-07  92.639999  429162   439082.0  0.165430    0.153090  0.695261   \n",
       "\n",
       "            d_oil_stock  \n",
       "Date                     \n",
       "2022-09-09     0.005716  \n",
       "2022-09-16     0.002656  \n",
       "2022-09-23    -0.000499  \n",
       "2022-09-30    -0.003149  \n",
       "2022-10-07     0.023017  "
      ]
     },
     "execution_count": 8,
     "metadata": {},
     "output_type": "execute_result"
    }
   ],
   "source": [
    "# Returns: r_t = (p_t/p_{t-1}) - 1\n",
    "df_weekly[\"return\"] = df_weekly[\"close\"].pct_change()\n",
    "df_weekly[\"log_return\"] = np.log(df_weekly[\"close\"]/df_weekly[\"close\"].shift(1))\n",
    "\n",
    "df_weekly[\"d_volume\"] = df_weekly[\"volume\"].pct_change()\n",
    "df_weekly[\"d_oil_stock\"] = df_weekly[\"oil_stock\"].pct_change()\n",
    "\n",
    "df_weekly.dropna(inplace=True)\n",
    "df_weekly.tail()"
   ]
  },
  {
   "cell_type": "code",
   "execution_count": 14,
   "id": "13925f94-2f34-431b-b504-e9c95f1facef",
   "metadata": {},
   "outputs": [
    {
     "data": {
      "image/png": "[encoded data removed]",
      "text/plain": [
       "<Figure size 640x480 with 1 Axes>"
      ]
     },
     "metadata": {},
     "output_type": "display_data"
    }
   ],
   "source": [
    "plt.scatter(df_weekly[\"oil_stock\"], df_weekly[\"close\"])\n",
    "plt.grid()\n",
    "plt.show()"
   ]
  },
  {
   "cell_type": "code",
   "execution_count": 9,
   "id": "59696af5-d6c4-4c8d-b995-750a9857d94a",
   "metadata": {},
   "outputs": [
    {
     "data": {
      "image/png": "[encoded data removed]",
      "text/plain": [
       "<Figure size 640x480 with 1 Axes>"
      ]
     },
     "metadata": {},
     "output_type": "display_data"
    }
   ],
   "source": [
    "plt.scatter(df_weekly[\"d_oil_stock\"], df_weekly[\"log_return\"])\n",
    "plt.grid()\n",
    "plt.show()"
   ]
  },
  {
   "cell_type": "code",
   "execution_count": 10,
   "id": "ebf9a478-a3e1-45b5-bb82-7c1f02ab66f3",
   "metadata": {},
   "outputs": [
    {
     "data": {
      "text/plain": [
       "const    -0.000138\n",
       "return   -0.028086\n",
       "dtype: float64"
      ]
     },
     "execution_count": 10,
     "metadata": {},
     "output_type": "execute_result"
    }
   ],
   "source": [
    "X = df_weekly[\"d_oil_stock\"]\n",
    "y = sm.add_constant(df_weekly[\"return\"])\n",
    "\n",
    "model = sm.OLS(endog=X, exog=y)\n",
    "results = model.fit()\n",
    "results.params"
   ]
  },
  {
   "cell_type": "code",
   "execution_count": 11,
   "id": "05c74082-68c2-417d-be14-71efc5bffbf1",
   "metadata": {},
   "outputs": [
    {
     "data": {
      "text/plain": [
       "const      -0.000020\n",
       "d_volume   -0.000716\n",
       "dtype: float64"
      ]
     },
     "execution_count": 11,
     "metadata": {},
     "output_type": "execute_result"
    }
   ],
   "source": [
    "X = df_weekly[\"d_oil_stock\"]\n",
    "y = sm.add_constant(df_weekly[\"d_volume\"])\n",
    "\n",
    "model = sm.OLS(endog=X, exog=y)\n",
    "results = model.fit()\n",
    "results.params"
   ]
  },
  {
   "cell_type": "code",
   "execution_count": 12,
   "id": "e3cdf845-5bf9-468f-8202-10d47ac4369d",
   "metadata": {},
   "outputs": [
    {
     "name": "stderr",
     "output_type": "stream",
     "text": [
      "/var/folders/2v/xw5v0n3d5rlf442fyyzb04dc0000gn/T/ipykernel_3989/1330877952.py:3: FutureWarning: `null_color` is deprecated: use `color` instead\n",
      "  correlation_df \\\n",
      "/var/folders/2v/xw5v0n3d5rlf442fyyzb04dc0000gn/T/ipykernel_3989/1330877952.py:3: FutureWarning: this method is deprecated in favour of `Styler.format(precision=..)`\n",
      "  correlation_df \\\n"
     ]
    },
    {
     "data": {
      "text/html": [
       "<style type=\"text/css\">\n",
       "#T_93006_row0_col0, #T_93006_row1_col1, #T_93006_row2_col2 {\n",
       "  background-color: #b40426;\n",
       "  color: #f1f1f1;\n",
       "}\n",
       "#T_93006_row0_col1, #T_93006_row1_col0 {\n",
       "  background-color: #d9dce1;\n",
       "  color: #000000;\n",
       "}\n",
       "#T_93006_row0_col2, #T_93006_row2_col0 {\n",
       "  background-color: #c5d6f2;\n",
       "  color: #000000;\n",
       "}\n",
       "#T_93006_row1_col2, #T_93006_row2_col1 {\n",
       "  background-color: #d4dbe6;\n",
       "  color: #000000;\n",
       "}\n",
       "</style>\n",
       "<table id=\"T_93006\">\n",
       "  <thead>\n",
       "    <tr>\n",
       "      <th class=\"blank level0\" >&nbsp;</th>\n",
       "      <th id=\"T_93006_level0_col0\" class=\"col_heading level0 col0\" >log_return</th>\n",
       "      <th id=\"T_93006_level0_col1\" class=\"col_heading level0 col1\" >d_volume</th>\n",
       "      <th id=\"T_93006_level0_col2\" class=\"col_heading level0 col2\" >d_oil_stock</th>\n",
       "    </tr>\n",
       "  </thead>\n",
       "  <tbody>\n",
       "    <tr>\n",
       "      <th id=\"T_93006_level0_row0\" class=\"row_heading level0 row0\" >log_return</th>\n",
       "      <td id=\"T_93006_row0_col0\" class=\"data row0 col0\" >1.000</td>\n",
       "      <td id=\"T_93006_row0_col1\" class=\"data row0 col1\" >-0.023</td>\n",
       "      <td id=\"T_93006_row0_col2\" class=\"data row0 col2\" >-0.170</td>\n",
       "    </tr>\n",
       "    <tr>\n",
       "      <th id=\"T_93006_level0_row1\" class=\"row_heading level0 row1\" >d_volume</th>\n",
       "      <td id=\"T_93006_row1_col0\" class=\"data row1 col0\" >-0.023</td>\n",
       "      <td id=\"T_93006_row1_col1\" class=\"data row1 col1\" >1.000</td>\n",
       "      <td id=\"T_93006_row1_col2\" class=\"data row1 col2\" >-0.063</td>\n",
       "    </tr>\n",
       "    <tr>\n",
       "      <th id=\"T_93006_level0_row2\" class=\"row_heading level0 row2\" >d_oil_stock</th>\n",
       "      <td id=\"T_93006_row2_col0\" class=\"data row2 col0\" >-0.170</td>\n",
       "      <td id=\"T_93006_row2_col1\" class=\"data row2 col1\" >-0.063</td>\n",
       "      <td id=\"T_93006_row2_col2\" class=\"data row2 col2\" >1.000</td>\n",
       "    </tr>\n",
       "  </tbody>\n",
       "</table>\n"
      ],
      "text/plain": [
       "<pandas.io.formats.style.Styler at 0x17e1d8190>"
      ]
     },
     "execution_count": 12,
     "metadata": {},
     "output_type": "execute_result"
    }
   ],
   "source": [
    "correlation_df = df_weekly[[\"log_return\", \"d_volume\", \"d_oil_stock\"]].corr()\n",
    "\n",
    "correlation_df \\\n",
    "    .style.background_gradient(cmap=\"coolwarm\", axis=None, vmin=-1, vmax=1) \\\n",
    "    .highlight_null(null_color='#f1f1f1') \\\n",
    "    .set_precision(3)"
   ]
  },
  {
   "cell_type": "markdown",
   "id": "ea195774-e1a7-4acb-94b5-8f9c4117284f",
   "metadata": {},
   "source": [
    "# Predict Next Day's Close with and without storage features"
   ]
  },
  {
   "cell_type": "code",
   "execution_count": null,
   "id": "908e9e1f-a901-4b0c-91ca-88b747f4efe1",
   "metadata": {},
   "outputs": [],
   "source": []
  },
  {
   "cell_type": "markdown",
   "id": "86c0c582-d88b-45ba-8be6-3c707e33c81f",
   "metadata": {},
   "source": [
    "# T-Test"
   ]
  },
  {
   "cell_type": "code",
   "execution_count": null,
   "id": "7b79d8ad-d981-453c-bcfc-719843d85e33",
   "metadata": {},
   "outputs": [],
   "source": []
  }
 ],
 "metadata": {
  "kernelspec": {
   "display_name": "ml",
   "language": "python",
   "name": "ml"
  },
  "language_info": {
   "codemirror_mode": {
    "name": "ipython",
    "version": 3
   },
   "file_extension": ".py",
   "mimetype": "text/x-python",
   "name": "python",
   "nbconvert_exporter": "python",
   "pygments_lexer": "ipython3",
   "version": "3.9.13"
  }
 },
 "nbformat": 4,
 "nbformat_minor": 5
}
