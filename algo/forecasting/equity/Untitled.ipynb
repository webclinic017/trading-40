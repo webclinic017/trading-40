{
 "cells": [
  {
   "cell_type": "code",
   "execution_count": 1,
   "id": "7e7b8f3a-b592-4067-bf45-4f54508fdd38",
   "metadata": {},
   "outputs": [],
   "source": [
    "import matplotlib.pyplot as plt\n",
    "import numpy as np\n",
    "import pandas as pd\n",
    "import seaborn as sns\n",
    "import yfinance as yf\n",
    "from datetime import date, datetime\n",
    "from statsmodels.tsa.vector_ar.vecm import coint_johansen\n",
    "from statsmodels.tsa.api import VAR\n",
    "\n",
    "sns.set_style(\"darkgrid\")"
   ]
  },
  {
   "cell_type": "code",
   "execution_count": 2,
   "id": "5da1ddeb-cc64-43c4-8ef5-1eb907c56da1",
   "metadata": {},
   "outputs": [
    {
     "name": "stdout",
     "output_type": "stream",
     "text": [
      "[*********************100%***********************]  1 of 1 completed\n",
      "[*********************100%***********************]  1 of 1 completed\n",
      "[*********************100%***********************]  1 of 1 completed\n",
      "                 CL=F   NG=F    RB=F\n",
      "Date                                \n",
      "2017-01-03  52.330002  3.327  1.6218\n",
      "2017-01-04  53.259998  3.267  1.6459\n",
      "                 CL=F   NG=F    RB=F\n",
      "Date                                \n",
      "2023-02-02  75.879997  2.456  2.4523\n",
      "2023-02-03  73.389999  2.410  2.3210\n"
     ]
    }
   ],
   "source": [
    "tickers = [\"CL=F\", \"NG=F\", \"RB=F\"]\n",
    "interval = \"1d\"\n",
    "start_date = datetime.strptime(\"2017-01-01\", \"%Y-%m-%d\")\n",
    "end_date = date.today()\n",
    "\n",
    "raw_df = pd.DataFrame(columns=tickers)\n",
    "for ticker in tickers:\n",
    "    ticker_df = yf.download(ticker, start=start_date, end=end_date, interval=interval)\n",
    "    raw_df[ticker] = ticker_df[\"Adj Close\"]\n",
    "    \n",
    "print(raw_df.head(2))\n",
    "print(raw_df.tail(2))"
   ]
  },
  {
   "cell_type": "code",
   "execution_count": 6,
   "id": "3d15ee54-2091-4f04-88d7-0f560672583f",
   "metadata": {},
   "outputs": [],
   "source": [
    "critical_values = {\n",
    "    0: {0.9: 13.4294, 0.95: 15.4943, 0.99: 19.9349},  # Critical values for 0 cointegration relationships.\n",
    "    1: {0.9: 2.7055, 0.95: 3.8415, 0.99: 6.6349},     # Critical values for 1 cointegration relationship.\n",
    "}\n",
    "\n",
    "trace0_cv_95 = critical_values[0][0.95]\n",
    "trace1_cv_95 = critical_values[1][0.95]\n",
    "\n",
    "# (n, 2) <- (n,) and (n,)\n",
    "# prices = np.vstack([x, y]).T\n",
    "prices = raw_df.values\n",
    "\n",
    "# Vector Autoregressive Model\n",
    "var = VAR(prices)\n",
    "lags = var.select_order()\n",
    "k_ar_diff = lags.selected_orders[\"aic\"]\n",
    "\n",
    "cj = coint_johansen(prices, det_order=0, k_ar_diff=k_ar_diff)"
   ]
  },
  {
   "cell_type": "code",
   "execution_count": 8,
   "id": "096b30db-f0e9-49ea-9fb2-2b262a38d380",
   "metadata": {},
   "outputs": [
    {
     "data": {
      "text/plain": [
       "array([43.14904592, 17.36060894,  2.3592809 ])"
      ]
     },
     "execution_count": 8,
     "metadata": {},
     "output_type": "execute_result"
    }
   ],
   "source": [
    "cj.lr1"
   ]
  },
  {
   "cell_type": "code",
   "execution_count": 10,
   "id": "aef3db78-0635-43c1-abf0-839b4450a304",
   "metadata": {},
   "outputs": [
    {
     "data": {
      "text/plain": [
       "array([ True,  True, False])"
      ]
     },
     "execution_count": 10,
     "metadata": {},
     "output_type": "execute_result"
    }
   ],
   "source": [
    "cj.lr1 > trace0_cv_95"
   ]
  },
  {
   "cell_type": "code",
   "execution_count": 11,
   "id": "e0756c0e-364b-4aac-8d6b-43157e8ad787",
   "metadata": {},
   "outputs": [
    {
     "data": {
      "text/plain": [
       "array([ True,  True, False])"
      ]
     },
     "execution_count": 11,
     "metadata": {},
     "output_type": "execute_result"
    }
   ],
   "source": [
    "cj.lr1 > trace1_cv_95"
   ]
  },
  {
   "cell_type": "code",
   "execution_count": 13,
   "id": "93e886ae-f3cd-4079-b29a-c1384d186672",
   "metadata": {},
   "outputs": [
    {
     "ename": "ValueError",
     "evalue": "The truth value of an array with more than one element is ambiguous. Use a.any() or a.all()",
     "output_type": "error",
     "traceback": [
      "\u001b[0;31m---------------------------------------------------------------------------\u001b[0m",
      "\u001b[0;31mValueError\u001b[0m                                Traceback (most recent call last)",
      "Cell \u001b[0;32mIn [13], line 1\u001b[0m\n\u001b[0;32m----> 1\u001b[0m (cj\u001b[38;5;241m.\u001b[39mlr1 \u001b[38;5;241m>\u001b[39m trace0_cv_95) \u001b[38;5;129;01mand\u001b[39;00m (cj\u001b[38;5;241m.\u001b[39mlr1 \u001b[38;5;241m>\u001b[39m trace1_cv_95)\n",
      "\u001b[0;31mValueError\u001b[0m: The truth value of an array with more than one element is ambiguous. Use a.any() or a.all()"
     ]
    }
   ],
   "source": [
    "(cj.lr1 > trace0_cv_95) and (cj.lr1 > trace1_cv_95)"
   ]
  },
  {
   "cell_type": "code",
   "execution_count": null,
   "id": "2224877e-b418-4dc4-9a7c-9044dc83c52a",
   "metadata": {},
   "outputs": [],
   "source": []
  }
 ],
 "metadata": {
  "kernelspec": {
   "display_name": "ml",
   "language": "python",
   "name": "ml"
  },
  "language_info": {
   "codemirror_mode": {
    "name": "ipython",
    "version": 3
   },
   "file_extension": ".py",
   "mimetype": "text/x-python",
   "name": "python",
   "nbconvert_exporter": "python",
   "pygments_lexer": "ipython3",
   "version": "3.9.13"
  }
 },
 "nbformat": 4,
 "nbformat_minor": 5
}
