{
 "cells": [
  {
   "cell_type": "code",
   "execution_count": 3,
   "id": "cd3c5cd7-ac5d-4741-8bd6-018cc9e37e43",
   "metadata": {},
   "outputs": [],
   "source": [
    "import arch\n",
    "import itertools\n",
    "import matplotlib.pyplot as plt\n",
    "import numpy as np\n",
    "import pandas as pd\n",
    "import scipy\n",
    "import seaborn as sns\n",
    "import statsmodels.api as sm\n",
    "import warnings\n",
    "import yfinance as yf\n",
    "from datetime import date, datetime, timedelta\n",
    "from operator import itemgetter\n",
    "from typing import List, Tuple\n",
    "\n",
    "from etl.load_volatility import get_data_with_vix\n",
    "from indicators.transform import build_features\n",
    "from indicators.temporal_features import difference_features\n",
    "\n",
    "\n",
    "sns.set_style(\"darkgrid\")"
   ]
  },
  {
   "cell_type": "code",
   "execution_count": 4,
   "id": "8b23808c-43a1-4757-9fd9-599ebd0ea0ff",
   "metadata": {},
   "outputs": [],
   "source": [
    "def train_and_predict(features, target, num_test, regularise, prediction_colname):\n",
    "    # Compute rolling predictions at time t, using only data up to t-1.\n",
    "    predictions = []\n",
    "    for i in range(num_test):\n",
    "        test_index = -(num_test-i)\n",
    "        \n",
    "        # Train - IS Data.\n",
    "        X_train = features.iloc[:test_index]\n",
    "        y_train = target.iloc[:test_index]\n",
    "\n",
    "        # Linear Regression vs. ElasticNet (GLMNet).\n",
    "        model = sm.OLS(endog=y_train, exog=X_train)\n",
    "        model = model.fit_regularized() if regularise else model.fit()\n",
    "\n",
    "        # Test - OOS Data: note double [[]] to preserve batch_dim==1.\n",
    "        X_test = features.iloc[[test_index]]\n",
    "        y_test = target.iloc[[test_index]]\n",
    "\n",
    "        prediction = model.predict(X_test)\n",
    "        predictions.append(prediction)\n",
    "\n",
    "    # Align predictions.\n",
    "    pred_series = pd.concat(predictions, axis=0)\n",
    "    pred_series.name = prediction_colname\n",
    "    pred_df = pred_series.to_frame()\n",
    "    \n",
    "    return pred_df, model\n",
    "\n",
    "\n",
    "\n",
    "def plot_results(df):\n",
    "    fig = plt.figure()\n",
    "    fig.set_size_inches(16, 4)\n",
    "\n",
    "    warmup = 20\n",
    "    plt.plot(df[\"target_price\"].iloc[warmup:], label=\"target\")\n",
    "    plt.plot(df[\"pred\"].iloc[warmup:], label=\"pred\")\n",
    "    plt.plot(df[\"pred_reg\"].iloc[warmup:], label=\"pred_reg\", alpha=0.5)\n",
    "    plt.title(\"Prediction vs. Target\")\n",
    "    plt.legend()\n",
    "    plt.show()"
   ]
  },
  {
   "cell_type": "code",
   "execution_count": 9,
   "id": "3571162a-f250-413f-a30b-7b0ec07e68d0",
   "metadata": {},
   "outputs": [],
   "source": [
    "def main(ticker, vix, start_date, end_date, interval, do_difference):\n",
    "\n",
    "    df = get_data_with_vix(ticker, vix=vix, start_date=start_date, end_date=end_date, interval=interval)\n",
    "    \n",
    "    # Perform any differencing of raw input features first s.t. downstream features are differenced by construction.\n",
    "    if do_difference:\n",
    "        df = df.pipe(difference_features, colnames=[\"price\", \"volume\", \"vix\"])\n",
    "    \n",
    "    features, target = build_features(df, features_cols=[\"price\", \"volume\", \"vix\"], add_lag_features={\"price\": [1, 2, 3, 7], \"vix\": [1, 2]}, add_yearly_features=True)\n",
    "\n",
    "    # Need at least 1 data point to fit model.\n",
    "    num_test = len(df) - 1\n",
    "    pred_df, model = train_and_predict(features, target, num_test, regularise=False, prediction_colname=\"pred\")\n",
    "    pred_reg_df, model_reg = train_and_predict(features, target, num_test, regularise=True, prediction_colname=\"pred_reg\")\n",
    "\n",
    "    # Join predictions with input data on date index.\n",
    "    output_df = df.join(pred_df)\n",
    "    output_df = output_df.join(pred_reg_df)\n",
    "    \n",
    "    print(\"Final Model\")\n",
    "    model_df = pd.DataFrame.from_dict({\"params\": model.params, \"pvalues\": model.pvalues})\n",
    "    reject_h0 = model_df.query(\"pvalues <= 0.05\")\n",
    "    fail_reject_h0 = model_df.query(\"pvalues > 0.05\")\n",
    "    print(model_df)\n",
    "    print(\"-\"*20)\n",
    "    print(f\"Reject H0:\\n {reject_h0}\")\n",
    "    print(\"-\"*20)\n",
    "    print(f\"Fail to reject H0:\\n {fail_reject_h0}\")\n",
    "\n",
    "    plot_results(output_df)\n",
    "    \n",
    "    return model"
   ]
  },
  {
   "cell_type": "markdown",
   "id": "ef1e4334-9f96-472c-a22c-837ec42b21b6",
   "metadata": {},
   "source": [
    "# Compare results with and without differencing the raw features"
   ]
  },
  {
   "cell_type": "code",
   "execution_count": 10,
   "id": "55f912eb-e2a4-4264-98de-578aacc0d0d1",
   "metadata": {},
   "outputs": [
    {
     "name": "stdout",
     "output_type": "stream",
     "text": [
      "[*********************100%***********************]  1 of 1 completed\n",
      "[*********************100%***********************]  1 of 1 completed\n",
      "Final Model\n",
      "                       params        pvalues\n",
      "const            8.815708e-01   8.177132e-02\n",
      "price            9.857889e-01  9.993891e-117\n",
      "volume          -6.946673e-09   6.211677e-02\n",
      "vix              2.383950e-01   2.010156e-03\n",
      "price-1         -3.118057e-02   5.704474e-01\n",
      "price-2          4.041252e-02   3.988647e-01\n",
      "price-3          5.409250e-03   8.503869e-01\n",
      "price-7         -3.440312e-03   8.123558e-01\n",
      "vix-1           -3.735239e-01   1.294946e-04\n",
      "vix-2            1.757451e-01   1.929880e-02\n",
      "cos_day_of_year  6.055286e-02   6.825308e-01\n",
      "sin_day_of_year -6.537509e-02   6.588265e-01\n",
      "--------------------\n",
      "Reject H0:\n",
      "          params        pvalues\n",
      "price  0.985789  9.993891e-117\n",
      "vix    0.238395   2.010156e-03\n",
      "vix-1 -0.373524   1.294946e-04\n",
      "vix-2  0.175745   1.929880e-02\n",
      "--------------------\n",
      "Fail to reject H0:\n",
      "                        params   pvalues\n",
      "const            8.815708e-01  0.081771\n",
      "volume          -6.946673e-09  0.062117\n",
      "price-1         -3.118057e-02  0.570447\n",
      "price-2          4.041252e-02  0.398865\n",
      "price-3          5.409250e-03  0.850387\n",
      "price-7         -3.440312e-03  0.812356\n",
      "cos_day_of_year  6.055286e-02  0.682531\n",
      "sin_day_of_year -6.537509e-02  0.658826\n"
     ]
    },
    {
     "ename": "KeyError",
     "evalue": "'target_price'",
     "output_type": "error",
     "traceback": [
      "\u001b[0;31m---------------------------------------------------------------------------\u001b[0m",
      "\u001b[0;31mKeyError\u001b[0m                                  Traceback (most recent call last)",
      "File \u001b[0;32m~/miniforge3/envs/ml/lib/python3.9/site-packages/pandas/core/indexes/base.py:3800\u001b[0m, in \u001b[0;36mIndex.get_loc\u001b[0;34m(self, key, method, tolerance)\u001b[0m\n\u001b[1;32m   3799\u001b[0m \u001b[38;5;28;01mtry\u001b[39;00m:\n\u001b[0;32m-> 3800\u001b[0m     \u001b[38;5;28;01mreturn\u001b[39;00m \u001b[38;5;28;43mself\u001b[39;49m\u001b[38;5;241;43m.\u001b[39;49m\u001b[43m_engine\u001b[49m\u001b[38;5;241;43m.\u001b[39;49m\u001b[43mget_loc\u001b[49m\u001b[43m(\u001b[49m\u001b[43mcasted_key\u001b[49m\u001b[43m)\u001b[49m\n\u001b[1;32m   3801\u001b[0m \u001b[38;5;28;01mexcept\u001b[39;00m \u001b[38;5;167;01mKeyError\u001b[39;00m \u001b[38;5;28;01mas\u001b[39;00m err:\n",
      "File \u001b[0;32m~/miniforge3/envs/ml/lib/python3.9/site-packages/pandas/_libs/index.pyx:138\u001b[0m, in \u001b[0;36mpandas._libs.index.IndexEngine.get_loc\u001b[0;34m()\u001b[0m\n",
      "File \u001b[0;32m~/miniforge3/envs/ml/lib/python3.9/site-packages/pandas/_libs/index.pyx:165\u001b[0m, in \u001b[0;36mpandas._libs.index.IndexEngine.get_loc\u001b[0;34m()\u001b[0m\n",
      "File \u001b[0;32mpandas/_libs/hashtable_class_helper.pxi:5745\u001b[0m, in \u001b[0;36mpandas._libs.hashtable.PyObjectHashTable.get_item\u001b[0;34m()\u001b[0m\n",
      "File \u001b[0;32mpandas/_libs/hashtable_class_helper.pxi:5753\u001b[0m, in \u001b[0;36mpandas._libs.hashtable.PyObjectHashTable.get_item\u001b[0;34m()\u001b[0m\n",
      "\u001b[0;31mKeyError\u001b[0m: 'target_price'",
      "\nThe above exception was the direct cause of the following exception:\n",
      "\u001b[0;31mKeyError\u001b[0m                                  Traceback (most recent call last)",
      "Cell \u001b[0;32mIn [10], line 9\u001b[0m\n\u001b[1;32m      5\u001b[0m end_date \u001b[38;5;241m=\u001b[39m date\u001b[38;5;241m.\u001b[39mtoday()\n\u001b[1;32m      6\u001b[0m start_date \u001b[38;5;241m=\u001b[39m datetime\u001b[38;5;241m.\u001b[39mstrptime(\u001b[38;5;124m\"\u001b[39m\u001b[38;5;124m2017-01-01\u001b[39m\u001b[38;5;124m\"\u001b[39m, \u001b[38;5;124m\"\u001b[39m\u001b[38;5;124m%\u001b[39m\u001b[38;5;124mY-\u001b[39m\u001b[38;5;124m%\u001b[39m\u001b[38;5;124mm-\u001b[39m\u001b[38;5;132;01m%d\u001b[39;00m\u001b[38;5;124m\"\u001b[39m)\n\u001b[0;32m----> 9\u001b[0m main(ticker\u001b[38;5;241m=\u001b[39mticker, vix\u001b[38;5;241m=\u001b[39mvix, start_date\u001b[38;5;241m=\u001b[39mstart_date, end_date\u001b[38;5;241m=\u001b[39mend_date, interval\u001b[38;5;241m=\u001b[39minterval, do_difference\u001b[38;5;241m=\u001b[39m\u001b[38;5;28;01mFalse\u001b[39;00m)\n",
      "Cell \u001b[0;32mIn [9], line 30\u001b[0m, in \u001b[0;36mmain\u001b[0;34m(ticker, vix, start_date, end_date, interval, do_difference)\u001b[0m\n\u001b[1;32m     27\u001b[0m \u001b[38;5;28mprint\u001b[39m(\u001b[38;5;124m\"\u001b[39m\u001b[38;5;124m-\u001b[39m\u001b[38;5;124m\"\u001b[39m\u001b[38;5;241m*\u001b[39m\u001b[38;5;241m20\u001b[39m)\n\u001b[1;32m     28\u001b[0m \u001b[38;5;28mprint\u001b[39m(\u001b[38;5;124mf\u001b[39m\u001b[38;5;124m\"\u001b[39m\u001b[38;5;124mFail to reject H0:\u001b[39m\u001b[38;5;130;01m\\n\u001b[39;00m\u001b[38;5;124m \u001b[39m\u001b[38;5;132;01m{\u001b[39;00mfail_reject_h0\u001b[38;5;132;01m}\u001b[39;00m\u001b[38;5;124m\"\u001b[39m)\n\u001b[0;32m---> 30\u001b[0m \u001b[43mplot_results\u001b[49m\u001b[43m(\u001b[49m\u001b[43moutput_df\u001b[49m\u001b[43m)\u001b[49m\n\u001b[1;32m     32\u001b[0m \u001b[38;5;28;01mreturn\u001b[39;00m model\n",
      "Cell \u001b[0;32mIn [4], line 36\u001b[0m, in \u001b[0;36mplot_results\u001b[0;34m(df)\u001b[0m\n\u001b[1;32m     33\u001b[0m fig\u001b[38;5;241m.\u001b[39mset_size_inches(\u001b[38;5;241m16\u001b[39m, \u001b[38;5;241m4\u001b[39m)\n\u001b[1;32m     35\u001b[0m warmup \u001b[38;5;241m=\u001b[39m \u001b[38;5;241m20\u001b[39m\n\u001b[0;32m---> 36\u001b[0m plt\u001b[38;5;241m.\u001b[39mplot(\u001b[43mdf\u001b[49m\u001b[43m[\u001b[49m\u001b[38;5;124;43m\"\u001b[39;49m\u001b[38;5;124;43mtarget_price\u001b[39;49m\u001b[38;5;124;43m\"\u001b[39;49m\u001b[43m]\u001b[49m\u001b[38;5;241m.\u001b[39miloc[warmup:], label\u001b[38;5;241m=\u001b[39m\u001b[38;5;124m\"\u001b[39m\u001b[38;5;124mtarget\u001b[39m\u001b[38;5;124m\"\u001b[39m)\n\u001b[1;32m     37\u001b[0m plt\u001b[38;5;241m.\u001b[39mplot(df[\u001b[38;5;124m\"\u001b[39m\u001b[38;5;124mpred\u001b[39m\u001b[38;5;124m\"\u001b[39m]\u001b[38;5;241m.\u001b[39miloc[warmup:], label\u001b[38;5;241m=\u001b[39m\u001b[38;5;124m\"\u001b[39m\u001b[38;5;124mpred\u001b[39m\u001b[38;5;124m\"\u001b[39m)\n\u001b[1;32m     38\u001b[0m plt\u001b[38;5;241m.\u001b[39mplot(df[\u001b[38;5;124m\"\u001b[39m\u001b[38;5;124mpred_reg\u001b[39m\u001b[38;5;124m\"\u001b[39m]\u001b[38;5;241m.\u001b[39miloc[warmup:], label\u001b[38;5;241m=\u001b[39m\u001b[38;5;124m\"\u001b[39m\u001b[38;5;124mpred_reg\u001b[39m\u001b[38;5;124m\"\u001b[39m, alpha\u001b[38;5;241m=\u001b[39m\u001b[38;5;241m0.5\u001b[39m)\n",
      "File \u001b[0;32m~/miniforge3/envs/ml/lib/python3.9/site-packages/pandas/core/frame.py:3805\u001b[0m, in \u001b[0;36mDataFrame.__getitem__\u001b[0;34m(self, key)\u001b[0m\n\u001b[1;32m   3803\u001b[0m \u001b[38;5;28;01mif\u001b[39;00m \u001b[38;5;28mself\u001b[39m\u001b[38;5;241m.\u001b[39mcolumns\u001b[38;5;241m.\u001b[39mnlevels \u001b[38;5;241m>\u001b[39m \u001b[38;5;241m1\u001b[39m:\n\u001b[1;32m   3804\u001b[0m     \u001b[38;5;28;01mreturn\u001b[39;00m \u001b[38;5;28mself\u001b[39m\u001b[38;5;241m.\u001b[39m_getitem_multilevel(key)\n\u001b[0;32m-> 3805\u001b[0m indexer \u001b[38;5;241m=\u001b[39m \u001b[38;5;28;43mself\u001b[39;49m\u001b[38;5;241;43m.\u001b[39;49m\u001b[43mcolumns\u001b[49m\u001b[38;5;241;43m.\u001b[39;49m\u001b[43mget_loc\u001b[49m\u001b[43m(\u001b[49m\u001b[43mkey\u001b[49m\u001b[43m)\u001b[49m\n\u001b[1;32m   3806\u001b[0m \u001b[38;5;28;01mif\u001b[39;00m is_integer(indexer):\n\u001b[1;32m   3807\u001b[0m     indexer \u001b[38;5;241m=\u001b[39m [indexer]\n",
      "File \u001b[0;32m~/miniforge3/envs/ml/lib/python3.9/site-packages/pandas/core/indexes/base.py:3802\u001b[0m, in \u001b[0;36mIndex.get_loc\u001b[0;34m(self, key, method, tolerance)\u001b[0m\n\u001b[1;32m   3800\u001b[0m     \u001b[38;5;28;01mreturn\u001b[39;00m \u001b[38;5;28mself\u001b[39m\u001b[38;5;241m.\u001b[39m_engine\u001b[38;5;241m.\u001b[39mget_loc(casted_key)\n\u001b[1;32m   3801\u001b[0m \u001b[38;5;28;01mexcept\u001b[39;00m \u001b[38;5;167;01mKeyError\u001b[39;00m \u001b[38;5;28;01mas\u001b[39;00m err:\n\u001b[0;32m-> 3802\u001b[0m     \u001b[38;5;28;01mraise\u001b[39;00m \u001b[38;5;167;01mKeyError\u001b[39;00m(key) \u001b[38;5;28;01mfrom\u001b[39;00m \u001b[38;5;21;01merr\u001b[39;00m\n\u001b[1;32m   3803\u001b[0m \u001b[38;5;28;01mexcept\u001b[39;00m \u001b[38;5;167;01mTypeError\u001b[39;00m:\n\u001b[1;32m   3804\u001b[0m     \u001b[38;5;66;03m# If we have a listlike key, _check_indexing_error will raise\u001b[39;00m\n\u001b[1;32m   3805\u001b[0m     \u001b[38;5;66;03m#  InvalidIndexError. Otherwise we fall through and re-raise\u001b[39;00m\n\u001b[1;32m   3806\u001b[0m     \u001b[38;5;66;03m#  the TypeError.\u001b[39;00m\n\u001b[1;32m   3807\u001b[0m     \u001b[38;5;28mself\u001b[39m\u001b[38;5;241m.\u001b[39m_check_indexing_error(key)\n",
      "\u001b[0;31mKeyError\u001b[0m: 'target_price'"
     ]
    },
    {
     "data": {
      "text/plain": [
       "<Figure size 1600x400 with 0 Axes>"
      ]
     },
     "metadata": {},
     "output_type": "display_data"
    }
   ],
   "source": [
    "ticker = \"SPY\"  # S&P 500 ETF\n",
    "# ticker = \"MES=F\"  # Micro E-mini S&P 500 Futures\n",
    "vix = \"^VIX\"\n",
    "interval = \"1d\"\n",
    "end_date = date.today()\n",
    "start_date = datetime.strptime(\"2017-01-01\", \"%Y-%m-%d\")\n",
    "\n",
    "\n",
    "main(ticker=ticker, vix=vix, start_date=start_date, end_date=end_date, interval=interval, do_difference=False)"
   ]
  },
  {
   "cell_type": "code",
   "execution_count": null,
   "id": "831850d7-51ad-46a2-a7ea-e4d8c21cb4ec",
   "metadata": {},
   "outputs": [],
   "source": [
    "main(ticker=ticker, vix=vix, start_date=start_date, end_date=end_date, interval=interval, do_difference=True)"
   ]
  },
  {
   "cell_type": "markdown",
   "id": "1a5cb3e9-4ecf-4605-92c7-6a3314cd3de5",
   "metadata": {},
   "source": [
    "# Other Plots"
   ]
  },
  {
   "cell_type": "code",
   "execution_count": null,
   "id": "54ed5b6b-c3c6-4904-876b-884b75f84654",
   "metadata": {},
   "outputs": [],
   "source": [
    "df = get_data_with_vix(ticker, vix=\"^VIX\", start_date=start_date, end_date=end_date, interval=interval)\n",
    "\n",
    "fig = plt.figure()\n",
    "fig.set_size_inches(16, 4)\n",
    "\n",
    "plt.plot(df[\"vix\"], label=\"VIX\")\n",
    "plt.legend()\n",
    "plt.show()"
   ]
  }
 ],
 "metadata": {
  "kernelspec": {
   "display_name": "ml",
   "language": "python",
   "name": "ml"
  },
  "language_info": {
   "codemirror_mode": {
    "name": "ipython",
    "version": 3
   },
   "file_extension": ".py",
   "mimetype": "text/x-python",
   "name": "python",
   "nbconvert_exporter": "python",
   "pygments_lexer": "ipython3",
   "version": "3.9.13"
  }
 },
 "nbformat": 4,
 "nbformat_minor": 5
}
